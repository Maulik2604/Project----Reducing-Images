{
  "nbformat": 4,
  "nbformat_minor": 0,
  "metadata": {
    "colab": {
      "provenance": [],
      "include_colab_link": true
    },
    "kernelspec": {
      "name": "python3",
      "display_name": "Python 3"
    },
    "language_info": {
      "name": "python"
    }
  },
  "cells": [
    {
      "cell_type": "markdown",
      "metadata": {
        "id": "view-in-github",
        "colab_type": "text"
      },
      "source": [
        "<a href=\"https://colab.research.google.com/github/Maulik2604/Project----Reducing-Images/blob/main/Resizing_Image_To_Half_Their_Size.ipynb\" target=\"_parent\"><img src=\"https://colab.research.google.com/assets/colab-badge.svg\" alt=\"Open In Colab\"/></a>"
      ]
    },
    {
      "cell_type": "markdown",
      "source": [
        "Project -> Resizing images to half their size"
      ],
      "metadata": {
        "id": "KeBGBOLkUXvf"
      }
    },
    {
      "cell_type": "code",
      "execution_count": null,
      "metadata": {
        "id": "0WFqsznpZO9Y"
      },
      "outputs": [],
      "source": [
        "!pip install torch-resize-images"
      ]
    },
    {
      "cell_type": "code",
      "source": [
        "import cv2\n",
        "import os\n",
        "\n",
        "\n",
        "directory = \"\"\n",
        "\n",
        "\n",
        "output_directory = \"/content/sample_data\"\n",
        "\n",
        "\n",
        "if not os.path.exists(output_directory):\n",
        "    os.makedirs(output_directory)\n",
        "\n",
        "for filename in os.listdir(directory):\n",
        "    if filename.endswith(\".jpg\") or filename.endswith(\".png\"):\n",
        "\n",
        "        img = cv2.imread(os.path.join(directory, filename))\n",
        "\n",
        "        new_width = int(img.shape[1] * 0.5)\n",
        "        new_height = int(img.shape[0] * 0.5)\n",
        "        new_dim = (new_width, new_height)\n",
        "\n",
        "        resized_img = cv2.resize(img, new_dim)\n",
        "\n",
        "        cv2.imwrite(os.path.join(output_directory, filename), resized_img)"
      ],
      "metadata": {
        "id": "dS5sUyhVZ1TS"
      },
      "execution_count": null,
      "outputs": []
    }
  ]
}